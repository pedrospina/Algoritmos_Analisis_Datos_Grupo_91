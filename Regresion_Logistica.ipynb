{
 "cells": [
  {
   "cell_type": "markdown",
   "id": "aad17153-98e0-4df9-b4e5-f7c51f63ae89",
   "metadata": {},
   "source": [
    "Regresión Logistica "
   ]
  },
  {
   "cell_type": "markdown",
   "id": "3a6a7219-406c-4871-81a3-504423feac67",
   "metadata": {},
   "source": [
    "Pedro Daniel Ospina Arias - Unad "
   ]
  },
  {
   "cell_type": "markdown",
   "id": "e6855f53-d043-4e92-8ede-0685b3988341",
   "metadata": {},
   "source": [
    "1. Realizar un análisis exploratorio de los datos para identificar relaciones entre variables, valores atípicos, tendencias, etc."
   ]
  },
  {
   "cell_type": "markdown",
   "id": "dbeb75f1-94a8-4476-98da-f5244791b272",
   "metadata": {},
   "source": [
    "import pandas as pd # Manejo y analisis de estructuras de datos\n",
    "import numpy as np # Caclculo numerico y el analisis de datos\n",
    "import seaborn as sns # Creaciòn graficos estadisticos\n",
    "import matplotlib.pyplot as plt # Creaciòn de graficos en dos dimensiones\n",
    "\n",
    "from sklearn import metrics\n",
    "from sklearn.model_selection import train_test_split\n",
    "from sklearn.linear_model import LogisticRegression\n",
    "from sklearn.metrics import classification_report, confusion_matrix"
   ]
  },
  {
   "cell_type": "code",
   "execution_count": 8,
   "id": "183babe5-b450-447e-b061-4b13fdde8872",
   "metadata": {},
   "outputs": [
    {
     "ename": "NameError",
     "evalue": "name 'pd' is not defined",
     "output_type": "error",
     "traceback": [
      "\u001b[1;31m---------------------------------------------------------------------------\u001b[0m",
      "\u001b[1;31mNameError\u001b[0m                                 Traceback (most recent call last)",
      "Cell \u001b[1;32mIn[8], line 3\u001b[0m\n\u001b[0;32m      1\u001b[0m \u001b[38;5;66;03m# Lectura de datos para el ejercicio de regesiòn logistica\u001b[39;00m\n\u001b[1;32m----> 3\u001b[0m Base_datos \u001b[38;5;241m=\u001b[39m pd\u001b[38;5;241m.\u001b[39mread_csv(\u001b[38;5;124m'\u001b[39m\u001b[38;5;124mC:/Users/Pedro/Desktop/10 Semestre/Analisis de datos/Actividad 3/heart_cleveland_upload.csv\u001b[39m\u001b[38;5;124m'\u001b[39m)\n",
      "\u001b[1;31mNameError\u001b[0m: name 'pd' is not defined"
     ]
    }
   ],
   "source": [
    "# Lectura de datos para el ejercicio de regesión logistica\n",
    "\n",
    "Base_datos = pd.read_csv('C:/Users/Pedro/Desktop/10 Semestre/Analisis de datos/Actividad 3/heart_cleveland_upload.csv')  # C:/unad/tarea_3/Diabetes.csv"
   ]
  },
  {
   "cell_type": "code",
   "execution_count": 45,
   "id": "106c4fa0-0e49-43a4-b311-e13117f6daec",
   "metadata": {},
   "outputs": [
    {
     "data": {
      "text/html": [
       "<div>\n",
       "<style scoped>\n",
       "    .dataframe tbody tr th:only-of-type {\n",
       "        vertical-align: middle;\n",
       "    }\n",
       "\n",
       "    .dataframe tbody tr th {\n",
       "        vertical-align: top;\n",
       "    }\n",
       "\n",
       "    .dataframe thead th {\n",
       "        text-align: right;\n",
       "    }\n",
       "</style>\n",
       "<table border=\"1\" class=\"dataframe\">\n",
       "  <thead>\n",
       "    <tr style=\"text-align: right;\">\n",
       "      <th></th>\n",
       "      <th>age</th>\n",
       "      <th>sex</th>\n",
       "      <th>cp</th>\n",
       "      <th>trestbps</th>\n",
       "      <th>chol</th>\n",
       "      <th>fbs</th>\n",
       "      <th>restecg</th>\n",
       "      <th>thalach</th>\n",
       "      <th>exang</th>\n",
       "      <th>oldpeak</th>\n",
       "      <th>slope</th>\n",
       "      <th>ca</th>\n",
       "      <th>thal</th>\n",
       "      <th>condition</th>\n",
       "    </tr>\n",
       "  </thead>\n",
       "  <tbody>\n",
       "    <tr>\n",
       "      <th>0</th>\n",
       "      <td>69</td>\n",
       "      <td>1</td>\n",
       "      <td>0</td>\n",
       "      <td>160</td>\n",
       "      <td>234</td>\n",
       "      <td>1</td>\n",
       "      <td>2</td>\n",
       "      <td>131</td>\n",
       "      <td>0</td>\n",
       "      <td>0.1</td>\n",
       "      <td>1</td>\n",
       "      <td>1</td>\n",
       "      <td>0</td>\n",
       "      <td>0</td>\n",
       "    </tr>\n",
       "    <tr>\n",
       "      <th>1</th>\n",
       "      <td>69</td>\n",
       "      <td>0</td>\n",
       "      <td>0</td>\n",
       "      <td>140</td>\n",
       "      <td>239</td>\n",
       "      <td>0</td>\n",
       "      <td>0</td>\n",
       "      <td>151</td>\n",
       "      <td>0</td>\n",
       "      <td>1.8</td>\n",
       "      <td>0</td>\n",
       "      <td>2</td>\n",
       "      <td>0</td>\n",
       "      <td>0</td>\n",
       "    </tr>\n",
       "    <tr>\n",
       "      <th>2</th>\n",
       "      <td>66</td>\n",
       "      <td>0</td>\n",
       "      <td>0</td>\n",
       "      <td>150</td>\n",
       "      <td>226</td>\n",
       "      <td>0</td>\n",
       "      <td>0</td>\n",
       "      <td>114</td>\n",
       "      <td>0</td>\n",
       "      <td>2.6</td>\n",
       "      <td>2</td>\n",
       "      <td>0</td>\n",
       "      <td>0</td>\n",
       "      <td>0</td>\n",
       "    </tr>\n",
       "    <tr>\n",
       "      <th>3</th>\n",
       "      <td>65</td>\n",
       "      <td>1</td>\n",
       "      <td>0</td>\n",
       "      <td>138</td>\n",
       "      <td>282</td>\n",
       "      <td>1</td>\n",
       "      <td>2</td>\n",
       "      <td>174</td>\n",
       "      <td>0</td>\n",
       "      <td>1.4</td>\n",
       "      <td>1</td>\n",
       "      <td>1</td>\n",
       "      <td>0</td>\n",
       "      <td>1</td>\n",
       "    </tr>\n",
       "    <tr>\n",
       "      <th>4</th>\n",
       "      <td>64</td>\n",
       "      <td>1</td>\n",
       "      <td>0</td>\n",
       "      <td>110</td>\n",
       "      <td>211</td>\n",
       "      <td>0</td>\n",
       "      <td>2</td>\n",
       "      <td>144</td>\n",
       "      <td>1</td>\n",
       "      <td>1.8</td>\n",
       "      <td>1</td>\n",
       "      <td>0</td>\n",
       "      <td>0</td>\n",
       "      <td>0</td>\n",
       "    </tr>\n",
       "    <tr>\n",
       "      <th>...</th>\n",
       "      <td>...</td>\n",
       "      <td>...</td>\n",
       "      <td>...</td>\n",
       "      <td>...</td>\n",
       "      <td>...</td>\n",
       "      <td>...</td>\n",
       "      <td>...</td>\n",
       "      <td>...</td>\n",
       "      <td>...</td>\n",
       "      <td>...</td>\n",
       "      <td>...</td>\n",
       "      <td>...</td>\n",
       "      <td>...</td>\n",
       "      <td>...</td>\n",
       "    </tr>\n",
       "    <tr>\n",
       "      <th>75</th>\n",
       "      <td>69</td>\n",
       "      <td>1</td>\n",
       "      <td>2</td>\n",
       "      <td>140</td>\n",
       "      <td>254</td>\n",
       "      <td>0</td>\n",
       "      <td>2</td>\n",
       "      <td>146</td>\n",
       "      <td>0</td>\n",
       "      <td>2.0</td>\n",
       "      <td>1</td>\n",
       "      <td>3</td>\n",
       "      <td>2</td>\n",
       "      <td>1</td>\n",
       "    </tr>\n",
       "    <tr>\n",
       "      <th>76</th>\n",
       "      <td>68</td>\n",
       "      <td>1</td>\n",
       "      <td>2</td>\n",
       "      <td>180</td>\n",
       "      <td>274</td>\n",
       "      <td>1</td>\n",
       "      <td>2</td>\n",
       "      <td>150</td>\n",
       "      <td>1</td>\n",
       "      <td>1.6</td>\n",
       "      <td>1</td>\n",
       "      <td>0</td>\n",
       "      <td>2</td>\n",
       "      <td>1</td>\n",
       "    </tr>\n",
       "    <tr>\n",
       "      <th>77</th>\n",
       "      <td>68</td>\n",
       "      <td>0</td>\n",
       "      <td>2</td>\n",
       "      <td>120</td>\n",
       "      <td>211</td>\n",
       "      <td>0</td>\n",
       "      <td>2</td>\n",
       "      <td>115</td>\n",
       "      <td>0</td>\n",
       "      <td>1.5</td>\n",
       "      <td>1</td>\n",
       "      <td>0</td>\n",
       "      <td>0</td>\n",
       "      <td>0</td>\n",
       "    </tr>\n",
       "    <tr>\n",
       "      <th>78</th>\n",
       "      <td>68</td>\n",
       "      <td>1</td>\n",
       "      <td>2</td>\n",
       "      <td>118</td>\n",
       "      <td>277</td>\n",
       "      <td>0</td>\n",
       "      <td>0</td>\n",
       "      <td>151</td>\n",
       "      <td>0</td>\n",
       "      <td>1.0</td>\n",
       "      <td>0</td>\n",
       "      <td>1</td>\n",
       "      <td>2</td>\n",
       "      <td>0</td>\n",
       "    </tr>\n",
       "    <tr>\n",
       "      <th>79</th>\n",
       "      <td>67</td>\n",
       "      <td>0</td>\n",
       "      <td>2</td>\n",
       "      <td>115</td>\n",
       "      <td>564</td>\n",
       "      <td>0</td>\n",
       "      <td>2</td>\n",
       "      <td>160</td>\n",
       "      <td>0</td>\n",
       "      <td>1.6</td>\n",
       "      <td>1</td>\n",
       "      <td>0</td>\n",
       "      <td>2</td>\n",
       "      <td>0</td>\n",
       "    </tr>\n",
       "  </tbody>\n",
       "</table>\n",
       "<p>80 rows × 14 columns</p>\n",
       "</div>"
      ],
      "text/plain": [
       "    age  sex  cp  trestbps  chol  fbs  restecg  thalach  exang  oldpeak  \\\n",
       "0    69    1   0       160   234    1        2      131      0      0.1   \n",
       "1    69    0   0       140   239    0        0      151      0      1.8   \n",
       "2    66    0   0       150   226    0        0      114      0      2.6   \n",
       "3    65    1   0       138   282    1        2      174      0      1.4   \n",
       "4    64    1   0       110   211    0        2      144      1      1.8   \n",
       "..  ...  ...  ..       ...   ...  ...      ...      ...    ...      ...   \n",
       "75   69    1   2       140   254    0        2      146      0      2.0   \n",
       "76   68    1   2       180   274    1        2      150      1      1.6   \n",
       "77   68    0   2       120   211    0        2      115      0      1.5   \n",
       "78   68    1   2       118   277    0        0      151      0      1.0   \n",
       "79   67    0   2       115   564    0        2      160      0      1.6   \n",
       "\n",
       "    slope  ca  thal  condition  \n",
       "0       1   1     0          0  \n",
       "1       0   2     0          0  \n",
       "2       2   0     0          0  \n",
       "3       1   1     0          1  \n",
       "4       1   0     0          0  \n",
       "..    ...  ..   ...        ...  \n",
       "75      1   3     2          1  \n",
       "76      1   0     2          1  \n",
       "77      1   0     0          0  \n",
       "78      0   1     2          0  \n",
       "79      1   0     2          0  \n",
       "\n",
       "[80 rows x 14 columns]"
      ]
     },
     "execution_count": 45,
     "metadata": {},
     "output_type": "execute_result"
    }
   ],
   "source": [
    "# Lectura para el analisis exploratorio\n",
    "\n",
    "Base_datos.head(80)  #40\n"
   ]
  },
  {
   "cell_type": "code",
   "execution_count": 47,
   "id": "e00d39ee-c9ad-4b69-b00e-b8d10d3fa66b",
   "metadata": {},
   "outputs": [
    {
     "data": {
      "text/html": [
       "<div>\n",
       "<style scoped>\n",
       "    .dataframe tbody tr th:only-of-type {\n",
       "        vertical-align: middle;\n",
       "    }\n",
       "\n",
       "    .dataframe tbody tr th {\n",
       "        vertical-align: top;\n",
       "    }\n",
       "\n",
       "    .dataframe thead th {\n",
       "        text-align: right;\n",
       "    }\n",
       "</style>\n",
       "<table border=\"1\" class=\"dataframe\">\n",
       "  <thead>\n",
       "    <tr style=\"text-align: right;\">\n",
       "      <th></th>\n",
       "      <th>age</th>\n",
       "      <th>sex</th>\n",
       "      <th>cp</th>\n",
       "      <th>trestbps</th>\n",
       "      <th>chol</th>\n",
       "      <th>fbs</th>\n",
       "      <th>restecg</th>\n",
       "      <th>thalach</th>\n",
       "      <th>exang</th>\n",
       "      <th>oldpeak</th>\n",
       "      <th>slope</th>\n",
       "      <th>ca</th>\n",
       "      <th>thal</th>\n",
       "      <th>condition</th>\n",
       "    </tr>\n",
       "  </thead>\n",
       "  <tbody>\n",
       "    <tr>\n",
       "      <th>count</th>\n",
       "      <td>297.000000</td>\n",
       "      <td>297.000000</td>\n",
       "      <td>297.000000</td>\n",
       "      <td>297.000000</td>\n",
       "      <td>297.000000</td>\n",
       "      <td>297.000000</td>\n",
       "      <td>297.000000</td>\n",
       "      <td>297.000000</td>\n",
       "      <td>297.000000</td>\n",
       "      <td>297.000000</td>\n",
       "      <td>297.000000</td>\n",
       "      <td>297.000000</td>\n",
       "      <td>297.000000</td>\n",
       "      <td>297.000000</td>\n",
       "    </tr>\n",
       "    <tr>\n",
       "      <th>mean</th>\n",
       "      <td>54.542088</td>\n",
       "      <td>0.676768</td>\n",
       "      <td>2.158249</td>\n",
       "      <td>131.693603</td>\n",
       "      <td>247.350168</td>\n",
       "      <td>0.144781</td>\n",
       "      <td>0.996633</td>\n",
       "      <td>149.599327</td>\n",
       "      <td>0.326599</td>\n",
       "      <td>1.396745</td>\n",
       "      <td>0.602694</td>\n",
       "      <td>0.676768</td>\n",
       "      <td>0.835017</td>\n",
       "      <td>0.461279</td>\n",
       "    </tr>\n",
       "    <tr>\n",
       "      <th>std</th>\n",
       "      <td>9.049736</td>\n",
       "      <td>0.468500</td>\n",
       "      <td>0.964859</td>\n",
       "      <td>17.762806</td>\n",
       "      <td>51.997583</td>\n",
       "      <td>0.352474</td>\n",
       "      <td>0.994914</td>\n",
       "      <td>22.941562</td>\n",
       "      <td>0.469761</td>\n",
       "      <td>0.938977</td>\n",
       "      <td>0.618187</td>\n",
       "      <td>0.938965</td>\n",
       "      <td>0.956690</td>\n",
       "      <td>0.499340</td>\n",
       "    </tr>\n",
       "    <tr>\n",
       "      <th>min</th>\n",
       "      <td>29.000000</td>\n",
       "      <td>0.000000</td>\n",
       "      <td>0.000000</td>\n",
       "      <td>94.000000</td>\n",
       "      <td>126.000000</td>\n",
       "      <td>0.000000</td>\n",
       "      <td>0.000000</td>\n",
       "      <td>71.000000</td>\n",
       "      <td>0.000000</td>\n",
       "      <td>0.100000</td>\n",
       "      <td>0.000000</td>\n",
       "      <td>0.000000</td>\n",
       "      <td>0.000000</td>\n",
       "      <td>0.000000</td>\n",
       "    </tr>\n",
       "    <tr>\n",
       "      <th>25%</th>\n",
       "      <td>48.000000</td>\n",
       "      <td>0.000000</td>\n",
       "      <td>2.000000</td>\n",
       "      <td>120.000000</td>\n",
       "      <td>211.000000</td>\n",
       "      <td>0.000000</td>\n",
       "      <td>0.000000</td>\n",
       "      <td>133.000000</td>\n",
       "      <td>0.000000</td>\n",
       "      <td>1.000000</td>\n",
       "      <td>0.000000</td>\n",
       "      <td>0.000000</td>\n",
       "      <td>0.000000</td>\n",
       "      <td>0.000000</td>\n",
       "    </tr>\n",
       "    <tr>\n",
       "      <th>50%</th>\n",
       "      <td>56.000000</td>\n",
       "      <td>1.000000</td>\n",
       "      <td>2.000000</td>\n",
       "      <td>130.000000</td>\n",
       "      <td>243.000000</td>\n",
       "      <td>0.000000</td>\n",
       "      <td>1.000000</td>\n",
       "      <td>153.000000</td>\n",
       "      <td>0.000000</td>\n",
       "      <td>1.055556</td>\n",
       "      <td>1.000000</td>\n",
       "      <td>0.000000</td>\n",
       "      <td>0.000000</td>\n",
       "      <td>0.000000</td>\n",
       "    </tr>\n",
       "    <tr>\n",
       "      <th>75%</th>\n",
       "      <td>61.000000</td>\n",
       "      <td>1.000000</td>\n",
       "      <td>3.000000</td>\n",
       "      <td>140.000000</td>\n",
       "      <td>276.000000</td>\n",
       "      <td>0.000000</td>\n",
       "      <td>2.000000</td>\n",
       "      <td>166.000000</td>\n",
       "      <td>1.000000</td>\n",
       "      <td>1.600000</td>\n",
       "      <td>1.000000</td>\n",
       "      <td>1.000000</td>\n",
       "      <td>2.000000</td>\n",
       "      <td>1.000000</td>\n",
       "    </tr>\n",
       "    <tr>\n",
       "      <th>max</th>\n",
       "      <td>77.000000</td>\n",
       "      <td>1.000000</td>\n",
       "      <td>3.000000</td>\n",
       "      <td>200.000000</td>\n",
       "      <td>564.000000</td>\n",
       "      <td>1.000000</td>\n",
       "      <td>2.000000</td>\n",
       "      <td>202.000000</td>\n",
       "      <td>1.000000</td>\n",
       "      <td>6.200000</td>\n",
       "      <td>2.000000</td>\n",
       "      <td>3.000000</td>\n",
       "      <td>2.000000</td>\n",
       "      <td>1.000000</td>\n",
       "    </tr>\n",
       "  </tbody>\n",
       "</table>\n",
       "</div>"
      ],
      "text/plain": [
       "              age         sex          cp    trestbps        chol         fbs  \\\n",
       "count  297.000000  297.000000  297.000000  297.000000  297.000000  297.000000   \n",
       "mean    54.542088    0.676768    2.158249  131.693603  247.350168    0.144781   \n",
       "std      9.049736    0.468500    0.964859   17.762806   51.997583    0.352474   \n",
       "min     29.000000    0.000000    0.000000   94.000000  126.000000    0.000000   \n",
       "25%     48.000000    0.000000    2.000000  120.000000  211.000000    0.000000   \n",
       "50%     56.000000    1.000000    2.000000  130.000000  243.000000    0.000000   \n",
       "75%     61.000000    1.000000    3.000000  140.000000  276.000000    0.000000   \n",
       "max     77.000000    1.000000    3.000000  200.000000  564.000000    1.000000   \n",
       "\n",
       "          restecg     thalach       exang     oldpeak       slope          ca  \\\n",
       "count  297.000000  297.000000  297.000000  297.000000  297.000000  297.000000   \n",
       "mean     0.996633  149.599327    0.326599    1.396745    0.602694    0.676768   \n",
       "std      0.994914   22.941562    0.469761    0.938977    0.618187    0.938965   \n",
       "min      0.000000   71.000000    0.000000    0.100000    0.000000    0.000000   \n",
       "25%      0.000000  133.000000    0.000000    1.000000    0.000000    0.000000   \n",
       "50%      1.000000  153.000000    0.000000    1.055556    1.000000    0.000000   \n",
       "75%      2.000000  166.000000    1.000000    1.600000    1.000000    1.000000   \n",
       "max      2.000000  202.000000    1.000000    6.200000    2.000000    3.000000   \n",
       "\n",
       "             thal   condition  \n",
       "count  297.000000  297.000000  \n",
       "mean     0.835017    0.461279  \n",
       "std      0.956690    0.499340  \n",
       "min      0.000000    0.000000  \n",
       "25%      0.000000    0.000000  \n",
       "50%      0.000000    0.000000  \n",
       "75%      2.000000    1.000000  \n",
       "max      2.000000    1.000000  "
      ]
     },
     "execution_count": 47,
     "metadata": {},
     "output_type": "execute_result"
    }
   ],
   "source": [
    "#Descripciòn de los datos\n",
    "Base_datos.describe()"
   ]
  },
  {
   "cell_type": "code",
   "execution_count": 31,
   "id": "25fce909-d5eb-4fa0-8f70-171f99bc10ef",
   "metadata": {},
   "outputs": [
    {
     "data": {
      "text/plain": [
       "Text(0.5, 1.0, 'Identificación de datos faltantes y Atipicos')"
      ]
     },
     "execution_count": 31,
     "metadata": {},
     "output_type": "execute_result"
    },
    {
     "data": {
      "image/png": "[encoded data removed]",
      "text/plain": [
       "<Figure size 600x300 with 1 Axes>"
      ]
     },
     "metadata": {},
     "output_type": "display_data"
    }
   ],
   "source": [
    "# Identificaciòn de datos Faltantes y atipicos\n",
    "\n",
    "plt.figure(figsize=(6, 3))\n",
    "sns.boxplot(x=Base_datos['age'])\n",
    "plt.title('Identificación de datos faltantes y Atipicos', fontsize =10)\n"
   ]
  },
  {
   "cell_type": "code",
   "execution_count": 35,
   "id": "0bc7466a-2527-4cd1-83fe-01835dbd85fd",
   "metadata": {},
   "outputs": [
    {
     "data": {
      "text/plain": [
       "Text(0.5, 1.0, 'Identificación de datos faltantes y Atipicos')"
      ]
     },
     "execution_count": 35,
     "metadata": {},
     "output_type": "execute_result"
    },
    {
     "data": {
      "image/png": "[encoded data removed]",
      "text/plain": [
       "<Figure size 600x300 with 1 Axes>"
      ]
     },
     "metadata": {},
     "output_type": "display_data"
    }
   ],
   "source": [
    "# Identificaciòn de datos Faltantes y atipicos\n",
    "\n",
    "plt.figure(figsize=(6, 3))\n",
    "sns.boxplot(x=Base_datos['chol'])\n",
    "plt.title('Identificación de datos faltantes y Atipicos', fontsize =10)\n"
   ]
  },
  {
   "cell_type": "markdown",
   "id": "c751d4e5-ebe6-43e6-876d-e492ba2ae3b8",
   "metadata": {},
   "source": [
    "2. Preprocesar los datos limpiándolos, tratando valores faltantes y transformándolos según sea necesario"
   ]
  },
  {
   "cell_type": "code",
   "execution_count": 37,
   "id": "456755b1-1b0a-44db-86c6-8cbe4dea0777",
   "metadata": {},
   "outputs": [
    {
     "name": "stdout",
     "output_type": "stream",
     "text": [
      "Cantidad de Registros con cero en trestbps:  0\n",
      "Cantidad de Registros con cero en chol:  0\n",
      "Cantidad de Registros con cero en thalach:  0\n",
      "Cantidad de Registros con cero en oldpeak:  96\n"
     ]
    }
   ],
   "source": [
    "# Revision de datos faltantes\n",
    "\n",
    "print(\"Cantidad de Registros con cero en trestbps: \",Base_datos ['trestbps'].isin([0]).sum())\n",
    "print(\"Cantidad de Registros con cero en chol: \",Base_datos ['chol'].isin([0]).sum())\n",
    "print(\"Cantidad de Registros con cero en thalach: \",Base_datos ['thalach'].isin([0]).sum())\n",
    "print(\"Cantidad de Registros con cero en oldpeak: \",Base_datos ['oldpeak'].isin([0]).sum())\n",
    "\n",
    "\n"
   ]
  },
  {
   "cell_type": "code",
   "execution_count": 41,
   "id": "b9b95f72-047b-4a61-b2a9-3adaafd32c65",
   "metadata": {},
   "outputs": [],
   "source": [
    "\n",
    "# Remplazar todos los datos en 0 por el valor promedio para el campo oldpeak\n",
    "Base_datos['oldpeak']=Base_datos['oldpeak'].replace(0,Base_datos['oldpeak'].mean())\n",
    "\n"
   ]
  },
  {
   "cell_type": "code",
   "execution_count": 43,
   "id": "365ca489-e49d-43aa-b5b0-6962a3bf7989",
   "metadata": {},
   "outputs": [
    {
     "name": "stdout",
     "output_type": "stream",
     "text": [
      "Cantidad de Registros con cero en trestbps:  0\n",
      "Cantidad de Registros con cero en chol:  0\n",
      "Cantidad de Registros con cero en thalach:  0\n",
      "Cantidad de Registros con cero en oldpeak:  0\n"
     ]
    }
   ],
   "source": [
    "# Revision de datos faltantes\n",
    "\n",
    "print(\"Cantidad de Registros con cero en trestbps: \",Base_datos ['trestbps'].isin([0]).sum())\n",
    "print(\"Cantidad de Registros con cero en chol: \",Base_datos ['chol'].isin([0]).sum())\n",
    "print(\"Cantidad de Registros con cero en thalach: \",Base_datos ['thalach'].isin([0]).sum())\n",
    "print(\"Cantidad de Registros con cero en oldpeak: \",Base_datos ['oldpeak'].isin([0]).sum())\n",
    "\n"
   ]
  },
  {
   "cell_type": "code",
   "execution_count": 63,
   "id": "37c3b4de-3ccd-45c2-9cc4-86ad1aa51444",
   "metadata": {},
   "outputs": [
    {
     "data": {
      "text/plain": [
       "Text(0.5, 1.0, 'Identificación de datos Atipicos')"
      ]
     },
     "execution_count": 63,
     "metadata": {},
     "output_type": "execute_result"
    },
    {
     "data": {
      "image/png": "[encoded data removed]",
      "text/plain": [
       "<Figure size 600x300 with 1 Axes>"
      ]
     },
     "metadata": {},
     "output_type": "display_data"
    }
   ],
   "source": [
    "#Identificaciòn de datos atipicos \n",
    "\n",
    "plt.figure(figsize=(6, 3))\n",
    "sns.boxplot(x=Base_datos['trestbps'])\n",
    "plt.title('Identificación de datos Atipicos', fontsize =10)"
   ]
  },
  {
   "cell_type": "code",
   "execution_count": 69,
   "id": "ee32e75f-246e-4ecf-89f3-2f7f403deee0",
   "metadata": {},
   "outputs": [
    {
     "name": "stdout",
     "output_type": "stream",
     "text": [
      "El numero total de datos atipicos es 62\n"
     ]
    }
   ],
   "source": [
    "#Conteo de datos Atipicos\n",
    "\n",
    "nivel_minimo = 120\n",
    "nivel_maximo = 180\n",
    "Numero_total_atipicos=((Base_datos['trestbps']<nivel_minimo)|(Base_datos['trestbps']>nivel_maximo)).sum()\n",
    "print(\"El numero total de datos atipicos es {}\".format(Numero_total_atipicos))"
   ]
  },
  {
   "cell_type": "code",
   "execution_count": 75,
   "id": "03c75c5d-a018-4598-bbeb-54c37d3e85a7",
   "metadata": {},
   "outputs": [],
   "source": [
    "# Filtrar datos Atipicos\n",
    "Base_datos=Base_datos[(Base_datos['trestbps']<nivel_maximo)&(Base_datos['trestbps']>nivel_minimo)]\n",
    "\n"
   ]
  },
  {
   "cell_type": "code",
   "execution_count": 77,
   "id": "896551b9-e34f-4c30-981d-b0515d7067ac",
   "metadata": {},
   "outputs": [
    {
     "name": "stdout",
     "output_type": "stream",
     "text": [
      "El numero total de datos atipicos es 0\n"
     ]
    }
   ],
   "source": [
    "# Validar su se removieron los datos atipicos\n",
    "\n",
    "Numero_total_atipicos=((Base_datos['trestbps']<nivel_minimo)|(Base_datos['trestbps']>nivel_maximo)).sum()\n",
    "print(\"El numero total de datos atipicos es {}\".format(Numero_total_atipicos))"
   ]
  },
  {
   "cell_type": "code",
   "execution_count": 79,
   "id": "cfa40e45-bb20-4a55-a472-dce89c14e7f7",
   "metadata": {},
   "outputs": [
    {
     "name": "stdout",
     "output_type": "stream",
     "text": [
      "<class 'pandas.core.frame.DataFrame'>\n",
      "Index: 195 entries, 0 to 296\n",
      "Data columns (total 14 columns):\n",
      " #   Column     Non-Null Count  Dtype  \n",
      "---  ------     --------------  -----  \n",
      " 0   age        195 non-null    int64  \n",
      " 1   sex        195 non-null    int64  \n",
      " 2   cp         195 non-null    int64  \n",
      " 3   trestbps   195 non-null    int64  \n",
      " 4   chol       195 non-null    int64  \n",
      " 5   fbs        195 non-null    int64  \n",
      " 6   restecg    195 non-null    int64  \n",
      " 7   thalach    195 non-null    int64  \n",
      " 8   exang      195 non-null    int64  \n",
      " 9   oldpeak    195 non-null    float64\n",
      " 10  slope      195 non-null    int64  \n",
      " 11  ca         195 non-null    int64  \n",
      " 12  thal       195 non-null    int64  \n",
      " 13  condition  195 non-null    int64  \n",
      "dtypes: float64(1), int64(13)\n",
      "memory usage: 22.9 KB\n"
     ]
    }
   ],
   "source": [
    "# Revisión del tipo de datos y datos faltantes\n",
    "\n",
    "Base_datos.info()"
   ]
  },
  {
   "cell_type": "markdown",
   "id": "d93e7f36-2df5-44b0-9f5e-3aab739478cb",
   "metadata": {},
   "source": [
    "3. Seleccionar las características más relevantes para entrenar el \n",
    "modelo utilizando selección de características."
   ]
  },
  {
   "cell_type": "code",
   "execution_count": 83,
   "id": "3e4919ee-0238-4730-9a6b-3425f51f2616",
   "metadata": {},
   "outputs": [
    {
     "data": {
      "text/plain": [
       "condition\n",
       "0    99\n",
       "1    96\n",
       "Name: count, dtype: int64"
      ]
     },
     "execution_count": 83,
     "metadata": {},
     "output_type": "execute_result"
    }
   ],
   "source": [
    "# Total de persona con enfermedad cardiaca\n",
    "Base_datos['condition'].value_counts()"
   ]
  },
  {
   "cell_type": "code",
   "execution_count": 89,
   "id": "15751407-84de-46de-a48e-b41ddc8e14c3",
   "metadata": {},
   "outputs": [
    {
     "data": {
      "text/html": [
       "<div>\n",
       "<style scoped>\n",
       "    .dataframe tbody tr th:only-of-type {\n",
       "        vertical-align: middle;\n",
       "    }\n",
       "\n",
       "    .dataframe tbody tr th {\n",
       "        vertical-align: top;\n",
       "    }\n",
       "\n",
       "    .dataframe thead th {\n",
       "        text-align: right;\n",
       "    }\n",
       "</style>\n",
       "<table border=\"1\" class=\"dataframe\">\n",
       "  <thead>\n",
       "    <tr style=\"text-align: right;\">\n",
       "      <th></th>\n",
       "      <th>condition</th>\n",
       "    </tr>\n",
       "  </thead>\n",
       "  <tbody>\n",
       "    <tr>\n",
       "      <th>0</th>\n",
       "      <td>0</td>\n",
       "    </tr>\n",
       "    <tr>\n",
       "      <th>1</th>\n",
       "      <td>0</td>\n",
       "    </tr>\n",
       "    <tr>\n",
       "      <th>2</th>\n",
       "      <td>0</td>\n",
       "    </tr>\n",
       "    <tr>\n",
       "      <th>3</th>\n",
       "      <td>1</td>\n",
       "    </tr>\n",
       "    <tr>\n",
       "      <th>5</th>\n",
       "      <td>0</td>\n",
       "    </tr>\n",
       "    <tr>\n",
       "      <th>6</th>\n",
       "      <td>0</td>\n",
       "    </tr>\n",
       "    <tr>\n",
       "      <th>7</th>\n",
       "      <td>1</td>\n",
       "    </tr>\n",
       "    <tr>\n",
       "      <th>8</th>\n",
       "      <td>0</td>\n",
       "    </tr>\n",
       "    <tr>\n",
       "      <th>9</th>\n",
       "      <td>0</td>\n",
       "    </tr>\n",
       "    <tr>\n",
       "      <th>10</th>\n",
       "      <td>1</td>\n",
       "    </tr>\n",
       "    <tr>\n",
       "      <th>11</th>\n",
       "      <td>1</td>\n",
       "    </tr>\n",
       "    <tr>\n",
       "      <th>12</th>\n",
       "      <td>1</td>\n",
       "    </tr>\n",
       "    <tr>\n",
       "      <th>13</th>\n",
       "      <td>0</td>\n",
       "    </tr>\n",
       "    <tr>\n",
       "      <th>16</th>\n",
       "      <td>0</td>\n",
       "    </tr>\n",
       "    <tr>\n",
       "      <th>17</th>\n",
       "      <td>0</td>\n",
       "    </tr>\n",
       "    <tr>\n",
       "      <th>19</th>\n",
       "      <td>0</td>\n",
       "    </tr>\n",
       "    <tr>\n",
       "      <th>20</th>\n",
       "      <td>0</td>\n",
       "    </tr>\n",
       "    <tr>\n",
       "      <th>24</th>\n",
       "      <td>0</td>\n",
       "    </tr>\n",
       "    <tr>\n",
       "      <th>25</th>\n",
       "      <td>0</td>\n",
       "    </tr>\n",
       "    <tr>\n",
       "      <th>26</th>\n",
       "      <td>1</td>\n",
       "    </tr>\n",
       "    <tr>\n",
       "      <th>27</th>\n",
       "      <td>0</td>\n",
       "    </tr>\n",
       "    <tr>\n",
       "      <th>29</th>\n",
       "      <td>0</td>\n",
       "    </tr>\n",
       "    <tr>\n",
       "      <th>30</th>\n",
       "      <td>0</td>\n",
       "    </tr>\n",
       "    <tr>\n",
       "      <th>32</th>\n",
       "      <td>1</td>\n",
       "    </tr>\n",
       "    <tr>\n",
       "      <th>33</th>\n",
       "      <td>1</td>\n",
       "    </tr>\n",
       "    <tr>\n",
       "      <th>34</th>\n",
       "      <td>1</td>\n",
       "    </tr>\n",
       "    <tr>\n",
       "      <th>35</th>\n",
       "      <td>1</td>\n",
       "    </tr>\n",
       "    <tr>\n",
       "      <th>37</th>\n",
       "      <td>0</td>\n",
       "    </tr>\n",
       "    <tr>\n",
       "      <th>39</th>\n",
       "      <td>0</td>\n",
       "    </tr>\n",
       "    <tr>\n",
       "      <th>40</th>\n",
       "      <td>0</td>\n",
       "    </tr>\n",
       "    <tr>\n",
       "      <th>41</th>\n",
       "      <td>0</td>\n",
       "    </tr>\n",
       "    <tr>\n",
       "      <th>42</th>\n",
       "      <td>0</td>\n",
       "    </tr>\n",
       "    <tr>\n",
       "      <th>44</th>\n",
       "      <td>0</td>\n",
       "    </tr>\n",
       "    <tr>\n",
       "      <th>47</th>\n",
       "      <td>0</td>\n",
       "    </tr>\n",
       "    <tr>\n",
       "      <th>48</th>\n",
       "      <td>0</td>\n",
       "    </tr>\n",
       "    <tr>\n",
       "      <th>50</th>\n",
       "      <td>0</td>\n",
       "    </tr>\n",
       "    <tr>\n",
       "      <th>51</th>\n",
       "      <td>0</td>\n",
       "    </tr>\n",
       "    <tr>\n",
       "      <th>53</th>\n",
       "      <td>0</td>\n",
       "    </tr>\n",
       "    <tr>\n",
       "      <th>56</th>\n",
       "      <td>0</td>\n",
       "    </tr>\n",
       "    <tr>\n",
       "      <th>58</th>\n",
       "      <td>0</td>\n",
       "    </tr>\n",
       "  </tbody>\n",
       "</table>\n",
       "</div>"
      ],
      "text/plain": [
       "    condition\n",
       "0           0\n",
       "1           0\n",
       "2           0\n",
       "3           1\n",
       "5           0\n",
       "6           0\n",
       "7           1\n",
       "8           0\n",
       "9           0\n",
       "10          1\n",
       "11          1\n",
       "12          1\n",
       "13          0\n",
       "16          0\n",
       "17          0\n",
       "19          0\n",
       "20          0\n",
       "24          0\n",
       "25          0\n",
       "26          1\n",
       "27          0\n",
       "29          0\n",
       "30          0\n",
       "32          1\n",
       "33          1\n",
       "34          1\n",
       "35          1\n",
       "37          0\n",
       "39          0\n",
       "40          0\n",
       "41          0\n",
       "42          0\n",
       "44          0\n",
       "47          0\n",
       "48          0\n",
       "50          0\n",
       "51          0\n",
       "53          0\n",
       "56          0\n",
       "58          0"
      ]
     },
     "execution_count": 89,
     "metadata": {},
     "output_type": "execute_result"
    }
   ],
   "source": [
    "Base_datos[['condition']].head(40)"
   ]
  },
  {
   "cell_type": "markdown",
   "id": "f2284ff7-03c2-4e22-a3fc-623ca1f1f0d2",
   "metadata": {},
   "source": [
    "4. Dividir el dataset en Train y Test para evaluar correctamente el \r\n",
    "modelo. "
   ]
  },
  {
   "cell_type": "code",
   "execution_count": 93,
   "id": "bd11dd97-f5eb-4831-b0fb-9ce3ef84e9d6",
   "metadata": {},
   "outputs": [],
   "source": [
    "# Porcentaje de datos para entrenamiento (train) = 70% , y para prueba (test) = 30%\n",
    "\n",
    "# Se crean variables X y Y para almacenar la información del entrenamiento\n",
    "\n",
    "X = Base_datos.drop('condition',axis=1) # Se cargan los datos de train sin los datos de la columna Diabetico \n",
    "Y = Base_datos['condition'] # Se cargan los datos de train con los datos de la la columna Diabetico\n",
    "\n",
    "#La función train_test_split crea una división de un conjunto de datos en dos bloques uno de entrenamiento y otro de prueba (train and test)\n",
    "X_train, X_test, Y_train, Y_test = train_test_split(X, Y, test_size=0.30, stratify=Y, random_state= 0)"
   ]
  },
  {
   "cell_type": "code",
   "execution_count": 95,
   "id": "3417cfa2-daf0-4778-93d3-b40e40a08097",
   "metadata": {},
   "outputs": [
    {
     "name": "stdout",
     "output_type": "stream",
     "text": [
      "     age  sex  cp  trestbps  chol  fbs  restecg  thalach  exang   oldpeak  \\\n",
      "25    70    1   1       156   245    0        2      143      0  1.055556   \n",
      "232   57    0   3       128   303    0        2      159      0  1.055556   \n",
      "60    44    1   1       130   219    0        2      188      0  1.055556   \n",
      "64    41    0   1       130   204    0        2      172      0  1.400000   \n",
      "236   56    1   3       125   249    1        2      144      1  1.200000   \n",
      "..   ...  ...  ..       ...   ...  ...      ...      ...    ...       ...   \n",
      "277   45    1   3       142   309    0        2      147      1  1.055556   \n",
      "6     63    1   0       145   233    1        2      150      0  2.300000   \n",
      "283   43    0   3       132   341    1        2      136      1  3.000000   \n",
      "264   50    1   3       144   200    0        2      126      1  0.900000   \n",
      "221   58    1   3       125   300    0        2      171      0  1.055556   \n",
      "\n",
      "     slope  ca  thal  \n",
      "25       0   0     0  \n",
      "232      0   1     0  \n",
      "60       0   0     0  \n",
      "64       0   0     0  \n",
      "236      1   1     0  \n",
      "..     ...  ..   ...  \n",
      "277      1   3     2  \n",
      "6        2   0     1  \n",
      "283      1   0     2  \n",
      "264      1   0     2  \n",
      "221      0   2     2  \n",
      "\n",
      "[136 rows x 13 columns]\n"
     ]
    }
   ],
   "source": [
    "print(X_train)"
   ]
  },
  {
   "cell_type": "code",
   "execution_count": 97,
   "id": "67da135e-da46-4d13-a0ff-e7594c36f5c4",
   "metadata": {},
   "outputs": [
    {
     "name": "stdout",
     "output_type": "stream",
     "text": [
      "25     0\n",
      "232    0\n",
      "60     0\n",
      "64     0\n",
      "236    1\n",
      "      ..\n",
      "277    1\n",
      "6      0\n",
      "283    1\n",
      "264    1\n",
      "221    1\n",
      "Name: condition, Length: 136, dtype: int64\n"
     ]
    }
   ],
   "source": [
    "print (Y_train)"
   ]
  },
  {
   "cell_type": "markdown",
   "id": "709d76bf-9e95-4fd9-b19c-9fdb93b2e7d1",
   "metadata": {},
   "source": [
    "5.  Entrenar el modelo configurando los diferentes \n",
    "hiperparámetros. "
   ]
  },
  {
   "cell_type": "code",
   "execution_count": 99,
   "id": "46930c01-bef9-4f84-a66d-f35d9e9e9083",
   "metadata": {},
   "outputs": [],
   "source": [
    "# Construir el modelo de regresión logística \n",
    "\n",
    "hiperparametros = LogisticRegression(solver = \"liblinear\") # liblinear es una libreria para resolver problemas lineales de clasificación y regresión\n",
    "hiperparametros.fit (X_train , Y_train)   \n",
    "\n",
    "# Crea el modelo de prediccion\n",
    "prueba = hiperparametros.predict(X_test) # la función predict predice los valores a partir del conjunto de datos de validación"
   ]
  },
  {
   "cell_type": "code",
   "execution_count": 101,
   "id": "17571c07-4985-4032-9a8e-e88f2dbdd2ca",
   "metadata": {},
   "outputs": [
    {
     "name": "stdout",
     "output_type": "stream",
     "text": [
      "263    1\n",
      "90     0\n",
      "139    0\n",
      "17     0\n",
      "214    1\n",
      "106    1\n",
      "142    0\n",
      "40     0\n",
      "81     0\n",
      "134    0\n",
      "194    1\n",
      "132    0\n",
      "288    1\n",
      "225    1\n",
      "220    1\n",
      "229    1\n",
      "58     0\n",
      "147    0\n",
      "105    0\n",
      "160    1\n",
      "193    1\n",
      "216    1\n",
      "155    1\n",
      "176    0\n",
      "260    1\n",
      "74     1\n",
      "197    1\n",
      "239    1\n",
      "72     0\n",
      "262    1\n",
      "83     0\n",
      "201    1\n",
      "244    1\n",
      "289    0\n",
      "11     1\n",
      "180    1\n",
      "199    1\n",
      "143    0\n",
      "190    1\n",
      "10     1\n",
      "285    0\n",
      "24     0\n",
      "249    0\n",
      "3      1\n",
      "42     0\n",
      "97     0\n",
      "182    1\n",
      "183    1\n",
      "276    0\n",
      "87     1\n",
      "102    0\n",
      "50     0\n",
      "251    0\n",
      "126    1\n",
      "119    0\n",
      "207    0\n",
      "218    0\n",
      "41     0\n",
      "268    0\n",
      "Name: condition, dtype: int64\n"
     ]
    }
   ],
   "source": [
    "print (Y_test)"
   ]
  },
  {
   "cell_type": "code",
   "execution_count": 103,
   "id": "a6331537-5db0-47e8-9c39-6e9947739840",
   "metadata": {},
   "outputs": [
    {
     "name": "stdout",
     "output_type": "stream",
     "text": [
      "[1 1 0 0 1 1 0 0 0 0 1 0 1 1 1 1 0 0 0 1 1 1 1 1 1 1 1 1 0 1 0 1 1 0 0 1 1\n",
      " 0 0 0 0 0 0 0 0 0 0 1 0 0 0 0 0 1 0 1 0 0 0]\n"
     ]
    }
   ],
   "source": [
    "print(prueba)"
   ]
  },
  {
   "cell_type": "markdown",
   "id": "15f9b2b6-c73b-4296-8bfa-be03ea4b6931",
   "metadata": {},
   "source": [
    "6. Evaluar el desempeño del modelo en el conjunto de Test con \r\n",
    "métricas como precisión, recall, F1-score, etc. "
   ]
  },
  {
   "cell_type": "code",
   "execution_count": 105,
   "id": "b3a5ce67-9f94-4dbd-90d3-aabe61659f83",
   "metadata": {},
   "outputs": [
    {
     "name": "stdout",
     "output_type": "stream",
     "text": [
      "              precision    recall  f1-score   support\n",
      "\n",
      "           0       0.82      0.90      0.86        30\n",
      "           1       0.88      0.79      0.84        29\n",
      "\n",
      "    accuracy                           0.85        59\n",
      "   macro avg       0.85      0.85      0.85        59\n",
      "weighted avg       0.85      0.85      0.85        59\n",
      "\n"
     ]
    }
   ],
   "source": [
    "# Desempeño del modelo de regresión\n",
    "\n",
    "print(classification_report(Y_test,prueba))"
   ]
  },
  {
   "cell_type": "markdown",
   "id": "522f2af1-dba7-4b78-9646-19cb37c546a7",
   "metadata": {},
   "source": [
    "7. Realizar las diferentes gráficas que permitan visualizar los \n",
    "resultados del modelo. "
   ]
  },
  {
   "cell_type": "code",
   "execution_count": 107,
   "id": "79442f49-68b3-4000-9316-a560e4357a7b",
   "metadata": {},
   "outputs": [
    {
     "data": {
      "text/plain": [
       "<sklearn.metrics._plot.confusion_matrix.ConfusionMatrixDisplay at 0x1b9d1815760>"
      ]
     },
     "execution_count": 107,
     "metadata": {},
     "output_type": "execute_result"
    },
    {
     "data": {
      "image/png": "[encoded data removed]",
      "text/plain": [
       "<Figure size 640x480 with 2 Axes>"
      ]
     },
     "metadata": {},
     "output_type": "display_data"
    }
   ],
   "source": [
    "#Matrix de Confusión del modelo\n",
    "\n",
    "cm=confusion_matrix(Y_test,prueba)\n",
    "disp=metrics.ConfusionMatrixDisplay(confusion_matrix=cm)\n",
    "disp.plot()"
   ]
  },
  {
   "cell_type": "code",
   "execution_count": 109,
   "id": "dbc19ec1-f636-48c2-9119-aeb7d869af47",
   "metadata": {},
   "outputs": [
    {
     "data": {
      "image/png": "[encoded data removed]",
      "text/plain": [
       "<Figure size 640x480 with 1 Axes>"
      ]
     },
     "metadata": {},
     "output_type": "display_data"
    }
   ],
   "source": [
    "# Curva de precisón del modelo\n",
    "\n",
    "from sklearn.metrics import RocCurveDisplay\n",
    "RocCurveDisplay.from_predictions(Y_test, prueba)\n",
    "plt.show()"
   ]
  },
  {
   "cell_type": "markdown",
   "id": "6ab0a4fd-2a6c-480a-9361-1a7371346f41",
   "metadata": {},
   "source": [
    "8. Interpretar, analizar y documentar los resultados obtenidos"
   ]
  },
  {
   "cell_type": "markdown",
   "id": "c69a6ff1-43c0-4736-bfeb-ffaac1b656c9",
   "metadata": {},
   "source": [
    "Del desempeño del modelo se puede detacar:\n",
    "\n",
    "Precisión: Precisión mide la proporción de predicciones positivas verdaderas entre todas las predicciones positivas realizadas por el modelo. La precisión para la clase \"Enfermedad cardiaca\" es 0,82, en este sentido hace alusión al 82% de las personas que tiene enfermedad cardiaca por el modelo realizado.\n",
    "\n",
    "Recall: Mide la proporción de predicciones positivas verdaderas entre todas las instancias positivas reales en el conjunto de datos. Para la clase \"condición\" es 0,79, lo que indica que el modelo identificó correctamente al 79% de todos los que presentan la enfermedad.\n",
    "\n",
    "F1 Score: Es la media armónica de precisión y recuperación. Proporciona una puntuación única que equilibra la Precisión y Recall. Aquí la puntuación F1 para la clase \"condición\" es 0,84, lo que indica un equilibrio entre precisión y recuerdo.\n",
    "\n",
    "De la Matriz de Confusión podemos interpretar:\n",
    "\n",
    "Verdaderos negativos: el recuento de observaciones que un clasificador predijo correctamente como falso 27\n",
    "\n",
    "Verdaderos positivos: el recuento de observaciones que un clasificador predijo correctamente como Verdadero 23\n",
    "\n",
    "Falsos positivos: el recuento de observaciones que un clasificador predijo incorrectamente como Verdaderas 3\n",
    "\n",
    "Falsos negativos: el recuento de observaciones que un clasificador predijo incorrectamente como falso 6\n",
    "\n",
    "De la curva de precisión del modelo se puede interpretar:\n",
    "\n",
    "El AUC es 0,85 lo que significa que el 69 % de las predicciones del clasificador son correctas en todos los umbrales de clasificación."
   ]
  }
 ],
 "metadata": {
  "kernelspec": {
   "display_name": "Python 3 (ipykernel)",
   "language": "python",
   "name": "python3"
  },
  "language_info": {
   "codemirror_mode": {
    "name": "ipython",
    "version": 3
   },
   "file_extension": ".py",
   "mimetype": "text/x-python",
   "name": "python",
   "nbconvert_exporter": "python",
   "pygments_lexer": "ipython3",
   "version": "3.12.4"
  }
 },
 "nbformat": 4,
 "nbformat_minor": 5
}
